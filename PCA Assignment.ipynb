{
 "cells": [
  {
   "cell_type": "markdown",
   "metadata": {},
   "source": [
    "# Important Libraries"
   ]
  },
  {
   "cell_type": "code",
   "execution_count": 1,
   "metadata": {},
   "outputs": [],
   "source": [
    "import numpy as np \n",
    "import pandas as pd\n",
    "import matplotlib.pyplot as plt"
   ]
  },
  {
   "cell_type": "code",
   "execution_count": 2,
   "metadata": {},
   "outputs": [
    {
     "name": "stdout",
     "output_type": "stream",
     "text": [
      "(8042, 35)\n"
     ]
    }
   ],
   "source": [
    "df = pd.read_csv('PCA_practice_dataset.csv', header=None)\n",
    "data = df.to_numpy()\n",
    "print(data.shape)"
   ]
  },
  {
   "cell_type": "code",
   "execution_count": 3,
   "metadata": {},
   "outputs": [
    {
     "data": {
      "text/html": [
       "<div>\n",
       "<style scoped>\n",
       "    .dataframe tbody tr th:only-of-type {\n",
       "        vertical-align: middle;\n",
       "    }\n",
       "\n",
       "    .dataframe tbody tr th {\n",
       "        vertical-align: top;\n",
       "    }\n",
       "\n",
       "    .dataframe thead th {\n",
       "        text-align: right;\n",
       "    }\n",
       "</style>\n",
       "<table border=\"1\" class=\"dataframe\">\n",
       "  <thead>\n",
       "    <tr style=\"text-align: right;\">\n",
       "      <th></th>\n",
       "      <th>0</th>\n",
       "      <th>1</th>\n",
       "      <th>2</th>\n",
       "      <th>3</th>\n",
       "      <th>4</th>\n",
       "      <th>5</th>\n",
       "      <th>6</th>\n",
       "      <th>7</th>\n",
       "      <th>8</th>\n",
       "      <th>9</th>\n",
       "      <th>...</th>\n",
       "      <th>25</th>\n",
       "      <th>26</th>\n",
       "      <th>27</th>\n",
       "      <th>28</th>\n",
       "      <th>29</th>\n",
       "      <th>30</th>\n",
       "      <th>31</th>\n",
       "      <th>32</th>\n",
       "      <th>33</th>\n",
       "      <th>34</th>\n",
       "    </tr>\n",
       "  </thead>\n",
       "  <tbody>\n",
       "    <tr>\n",
       "      <th>0</th>\n",
       "      <td>-0.03125</td>\n",
       "      <td>0.236364</td>\n",
       "      <td>0.238095</td>\n",
       "      <td>-0.090909</td>\n",
       "      <td>0.000000</td>\n",
       "      <td>0.381818</td>\n",
       "      <td>0.326316</td>\n",
       "      <td>-0.015625</td>\n",
       "      <td>-0.12500</td>\n",
       "      <td>0.553398</td>\n",
       "      <td>...</td>\n",
       "      <td>0.576923</td>\n",
       "      <td>0.471264</td>\n",
       "      <td>-0.033333</td>\n",
       "      <td>-0.046154</td>\n",
       "      <td>0.524752</td>\n",
       "      <td>0.410526</td>\n",
       "      <td>-0.015625</td>\n",
       "      <td>-0.18750</td>\n",
       "      <td>0.495146</td>\n",
       "      <td>0.515789</td>\n",
       "    </tr>\n",
       "    <tr>\n",
       "      <th>1</th>\n",
       "      <td>-0.03125</td>\n",
       "      <td>0.309091</td>\n",
       "      <td>0.380952</td>\n",
       "      <td>0.074380</td>\n",
       "      <td>0.129032</td>\n",
       "      <td>0.472727</td>\n",
       "      <td>0.557895</td>\n",
       "      <td>0.078125</td>\n",
       "      <td>-0.03125</td>\n",
       "      <td>0.398058</td>\n",
       "      <td>...</td>\n",
       "      <td>0.519231</td>\n",
       "      <td>0.425287</td>\n",
       "      <td>0.000000</td>\n",
       "      <td>0.138462</td>\n",
       "      <td>0.663366</td>\n",
       "      <td>0.368421</td>\n",
       "      <td>0.015625</td>\n",
       "      <td>0.12500</td>\n",
       "      <td>0.533981</td>\n",
       "      <td>0.368421</td>\n",
       "    </tr>\n",
       "    <tr>\n",
       "      <th>2</th>\n",
       "      <td>-0.03125</td>\n",
       "      <td>0.381818</td>\n",
       "      <td>0.261905</td>\n",
       "      <td>-0.107438</td>\n",
       "      <td>0.000000</td>\n",
       "      <td>0.527273</td>\n",
       "      <td>0.326316</td>\n",
       "      <td>0.046875</td>\n",
       "      <td>-0.03125</td>\n",
       "      <td>0.631068</td>\n",
       "      <td>...</td>\n",
       "      <td>0.384615</td>\n",
       "      <td>0.103448</td>\n",
       "      <td>-0.250000</td>\n",
       "      <td>-0.138462</td>\n",
       "      <td>0.425743</td>\n",
       "      <td>0.263158</td>\n",
       "      <td>-0.109375</td>\n",
       "      <td>-0.03125</td>\n",
       "      <td>0.650485</td>\n",
       "      <td>0.452632</td>\n",
       "    </tr>\n",
       "    <tr>\n",
       "      <th>3</th>\n",
       "      <td>-0.03125</td>\n",
       "      <td>0.381818</td>\n",
       "      <td>0.285714</td>\n",
       "      <td>-0.123967</td>\n",
       "      <td>-0.129032</td>\n",
       "      <td>0.309091</td>\n",
       "      <td>0.073684</td>\n",
       "      <td>-0.156250</td>\n",
       "      <td>0.09375</td>\n",
       "      <td>0.398058</td>\n",
       "      <td>...</td>\n",
       "      <td>0.519231</td>\n",
       "      <td>0.425287</td>\n",
       "      <td>-0.050000</td>\n",
       "      <td>-0.107692</td>\n",
       "      <td>0.485149</td>\n",
       "      <td>0.368421</td>\n",
       "      <td>-0.031250</td>\n",
       "      <td>-0.25000</td>\n",
       "      <td>0.203883</td>\n",
       "      <td>0.094737</td>\n",
       "    </tr>\n",
       "    <tr>\n",
       "      <th>4</th>\n",
       "      <td>-0.03125</td>\n",
       "      <td>0.381818</td>\n",
       "      <td>0.357143</td>\n",
       "      <td>-0.024793</td>\n",
       "      <td>-0.096774</td>\n",
       "      <td>0.454545</td>\n",
       "      <td>0.431579</td>\n",
       "      <td>-0.015625</td>\n",
       "      <td>-0.25000</td>\n",
       "      <td>0.398058</td>\n",
       "      <td>...</td>\n",
       "      <td>0.480769</td>\n",
       "      <td>0.471264</td>\n",
       "      <td>-0.033333</td>\n",
       "      <td>-0.169231</td>\n",
       "      <td>0.524752</td>\n",
       "      <td>0.515789</td>\n",
       "      <td>-0.015625</td>\n",
       "      <td>-0.28125</td>\n",
       "      <td>0.495146</td>\n",
       "      <td>0.410526</td>\n",
       "    </tr>\n",
       "  </tbody>\n",
       "</table>\n",
       "<p>5 rows × 35 columns</p>\n",
       "</div>"
      ],
      "text/plain": [
       "        0         1         2         3         4         5         6   \\\n",
       "0 -0.03125  0.236364  0.238095 -0.090909  0.000000  0.381818  0.326316   \n",
       "1 -0.03125  0.309091  0.380952  0.074380  0.129032  0.472727  0.557895   \n",
       "2 -0.03125  0.381818  0.261905 -0.107438  0.000000  0.527273  0.326316   \n",
       "3 -0.03125  0.381818  0.285714 -0.123967 -0.129032  0.309091  0.073684   \n",
       "4 -0.03125  0.381818  0.357143 -0.024793 -0.096774  0.454545  0.431579   \n",
       "\n",
       "         7        8         9   ...        25        26        27        28  \\\n",
       "0 -0.015625 -0.12500  0.553398  ...  0.576923  0.471264 -0.033333 -0.046154   \n",
       "1  0.078125 -0.03125  0.398058  ...  0.519231  0.425287  0.000000  0.138462   \n",
       "2  0.046875 -0.03125  0.631068  ...  0.384615  0.103448 -0.250000 -0.138462   \n",
       "3 -0.156250  0.09375  0.398058  ...  0.519231  0.425287 -0.050000 -0.107692   \n",
       "4 -0.015625 -0.25000  0.398058  ...  0.480769  0.471264 -0.033333 -0.169231   \n",
       "\n",
       "         29        30        31       32        33        34  \n",
       "0  0.524752  0.410526 -0.015625 -0.18750  0.495146  0.515789  \n",
       "1  0.663366  0.368421  0.015625  0.12500  0.533981  0.368421  \n",
       "2  0.425743  0.263158 -0.109375 -0.03125  0.650485  0.452632  \n",
       "3  0.485149  0.368421 -0.031250 -0.25000  0.203883  0.094737  \n",
       "4  0.524752  0.515789 -0.015625 -0.28125  0.495146  0.410526  \n",
       "\n",
       "[5 rows x 35 columns]"
      ]
     },
     "execution_count": 3,
     "metadata": {},
     "output_type": "execute_result"
    }
   ],
   "source": [
    "df.head()"
   ]
  },
  {
   "cell_type": "code",
   "execution_count": 4,
   "metadata": {},
   "outputs": [
    {
     "name": "stdout",
     "output_type": "stream",
     "text": [
      "(8042, 35)\n"
     ]
    }
   ],
   "source": [
    "data_matrix = np.matrix(data)\n",
    "print(data_matrix.shape)"
   ]
  },
  {
   "cell_type": "code",
   "execution_count": 5,
   "metadata": {},
   "outputs": [
    {
     "name": "stdout",
     "output_type": "stream",
     "text": [
      "(35, 8042)\n"
     ]
    }
   ],
   "source": [
    "data_matrix_t = np.matrix(data_matrix.T)\n",
    "print(data_matrix_t.shape)"
   ]
  },
  {
   "cell_type": "markdown",
   "metadata": {},
   "source": [
    "# Finding Eigen"
   ]
  },
  {
   "cell_type": "code",
   "execution_count": 6,
   "metadata": {},
   "outputs": [
    {
     "name": "stdout",
     "output_type": "stream",
     "text": [
      "(8042, 8042)\n"
     ]
    }
   ],
   "source": [
    "cov = np.cov(data_matrix)\n",
    "print(cov.shape)"
   ]
  },
  {
   "cell_type": "code",
   "execution_count": 7,
   "metadata": {},
   "outputs": [
    {
     "name": "stdout",
     "output_type": "stream",
     "text": [
      "(35, 35)\n"
     ]
    }
   ],
   "source": [
    "cov = np.cov(data_matrix_t)\n",
    "print(cov.shape)\n",
    "eig_val, eig_vec = np.linalg.eig(cov)"
   ]
  },
  {
   "cell_type": "markdown",
   "metadata": {},
   "source": [
    "# Right Singular Vectors"
   ]
  },
  {
   "cell_type": "code",
   "execution_count": 8,
   "metadata": {},
   "outputs": [],
   "source": [
    "eigen_vec_ls = []\n",
    "for i in range(eig_vec.shape[1]):\n",
    "    eig1 = data@eig_vec[:,i]\n",
    "    eig1 = eig1/eig_val[i]\n",
    "    eigen_vec_ls.append(np.ravel(eig1))"
   ]
  },
  {
   "cell_type": "code",
   "execution_count": 9,
   "metadata": {},
   "outputs": [
    {
     "data": {
      "text/plain": [
       "array([3.51226699e+00, 1.95974767e+00, 2.46254447e-01, 1.37596099e-01,\n",
       "       9.40647796e-02, 8.15808436e-02, 5.76794314e-02, 2.41536413e-02,\n",
       "       1.95698085e-02, 1.53535147e-02, 1.33368429e-02, 8.41289295e-03,\n",
       "       7.50956515e-03, 7.17790489e-03, 7.01373935e-03, 6.87257345e-03,\n",
       "       5.07969739e-03, 4.54477434e-03, 4.20149896e-03, 3.63490246e-03,\n",
       "       3.50321157e-03, 3.24484593e-03, 1.08631748e-03, 2.96356841e-03,\n",
       "       2.83614520e-03, 2.69172614e-03, 1.30121655e-03, 1.44106622e-03,\n",
       "       1.50648368e-03, 1.66002817e-03, 1.75646629e-03, 1.86627842e-03,\n",
       "       1.97418260e-03, 2.25562721e-03, 2.15169295e-03])"
      ]
     },
     "execution_count": 9,
     "metadata": {},
     "output_type": "execute_result"
    }
   ],
   "source": [
    "eig_val"
   ]
  },
  {
   "cell_type": "code",
   "execution_count": 10,
   "metadata": {},
   "outputs": [
    {
     "data": {
      "text/plain": [
       "[array([ 0.2629715 ,  0.29355157,  0.2752796 , ..., -0.05641767,\n",
       "         0.01772987, -0.01232639]),\n",
       " array([ 0.59127675,  0.58542864,  0.40030446, ..., -1.01226118,\n",
       "        -0.83703822, -1.04193292]),\n",
       " array([-4.70972047, -3.73284221, -4.89537733, ..., -1.49140278,\n",
       "        -1.7570309 , -1.63552726]),\n",
       " array([ 0.55588636,  1.78550606,  0.17342257, ..., -1.55852628,\n",
       "         1.64848411,  0.70929326]),\n",
       " array([ 1.74335619,  0.34245138, -2.81805252, ..., -2.37121403,\n",
       "         2.36740885,  3.25321676]),\n",
       " array([ 0.32195603, -0.09454092,  4.39440218, ...,  1.46065336,\n",
       "        -0.11473181,  0.29592032]),\n",
       " array([-3.7313987 ,  0.42694147, -8.43114792, ..., -1.49352717,\n",
       "        -0.7148587 , -1.92325494]),\n",
       " array([-5.45558253,  2.64463896, -3.65113933, ...,  0.89717826,\n",
       "        -0.85064956, -3.76752371]),\n",
       " array([-0.97904388, -3.10206044, -4.40405858, ..., -5.46393269,\n",
       "        -3.16931688, -2.84668347]),\n",
       " array([-12.96899219,   7.77424423,  12.49423304, ...,  -0.85517739,\n",
       "          1.7575105 ,  -5.69160474]),\n",
       " array([ -1.68591612,  -6.92446942, -11.5949534 , ...,  -2.17111545,\n",
       "          0.47793119,  -4.17140345]),\n",
       " array([30.7935422 , 22.00476017, 42.91166688, ..., 21.5673616 ,\n",
       "        22.64212879, 31.99939078]),\n",
       " array([-14.15922786, -15.65064968,   5.23965629, ..., -11.65628058,\n",
       "         -5.27303378, -14.67630584]),\n",
       " array([ -9.19785656,   5.65638453, -35.11606533, ..., -28.14430525,\n",
       "         -3.86253605, -12.38420613]),\n",
       " array([-1.97939653, 36.81077396,  2.58497204, ..., 15.83863454,\n",
       "        10.38619657,  1.30971669]),\n",
       " array([50.94868743, 42.80269468, 16.69031138, ..., 20.3789227 ,\n",
       "        22.40824247, 35.84011936]),\n",
       " array([-30.6865746 , -24.42700671, -35.1392305 , ..., -16.91985873,\n",
       "        -23.35774412,   1.37699428]),\n",
       " array([  3.90687098, -23.59116119,  -3.32443422, ..., -18.99683511,\n",
       "        -12.78980951,  11.14472729]),\n",
       " array([-14.10926604,  -9.53729987, -23.47970335, ...,  14.61089482,\n",
       "          9.12422001, -23.66397855]),\n",
       " array([ 17.98837321,  -0.90252218, -18.27265719, ...,  -1.45748882,\n",
       "        -21.37258768,  -9.56983179]),\n",
       " array([-4.83053843,  8.294249  , 22.23589491, ...,  0.65349227,\n",
       "        25.35303768, 11.29696572]),\n",
       " array([ -2.17526664, -39.82536867,   1.59384971, ..., -36.73962921,\n",
       "        -15.42867981, -15.20900883]),\n",
       " array([ 12.85167133,  -5.82308741,  12.50919771, ...,  20.23429066,\n",
       "        -14.49454627,  30.21849607]),\n",
       " array([-56.74400138, -23.23319019,   3.96834546, ...,  19.24755772,\n",
       "        -11.29966335, -30.99322992]),\n",
       " array([  0.46311291, -16.82613149, -26.9810393 , ..., -19.20325295,\n",
       "        -10.4370201 , -11.23424819]),\n",
       " array([-28.37121104, -23.97630338,  41.55208795, ..., -19.24626255,\n",
       "        -21.0916035 ,  11.0631466 ]),\n",
       " array([ 33.80879812, -23.56125192,  39.73443218, ...,   5.39317467,\n",
       "          5.24833956,  16.63596627]),\n",
       " array([55.3600263 , 11.38110727, 29.19516544, ..., 43.10507517,\n",
       "        74.2518564 , 32.7221007 ]),\n",
       " array([ 35.18644861, -13.29839988, -16.5290102 , ...,  27.85232366,\n",
       "         20.2976299 ,  16.01140348]),\n",
       " array([-11.13594724, -54.00220882,   5.63206859, ..., -12.41100336,\n",
       "        -41.57312351, -18.15740277]),\n",
       " array([-18.32996716, -25.92804619,  -9.36116731, ...,  17.66814036,\n",
       "         13.12424306,   6.5632273 ]),\n",
       " array([ 4.02211719, 25.68486124, 10.36121359, ..., -2.04498154,\n",
       "        26.22890143, 27.98437564]),\n",
       " array([ 28.79807121, -20.70481107, -12.09910634, ..., -28.33286508,\n",
       "         13.45469949,   2.56767851]),\n",
       " array([ 2.15167329e+01, -2.08842241e-02, -1.41280599e+00, ...,\n",
       "        -4.63329471e+00,  1.24730978e+00, -2.04686141e+01]),\n",
       " array([-33.03053666,  20.19728054,  -6.61496613, ...,   3.45452845,\n",
       "         -1.31068567, -17.61049797])]"
      ]
     },
     "execution_count": 10,
     "metadata": {},
     "output_type": "execute_result"
    }
   ],
   "source": [
    "eigen_vec_ls"
   ]
  },
  {
   "cell_type": "markdown",
   "metadata": {},
   "source": [
    "## Threshold List"
   ]
  },
  {
   "cell_type": "code",
   "execution_count": 11,
   "metadata": {},
   "outputs": [
    {
     "name": "stdout",
     "output_type": "stream",
     "text": [
      "[0.9  0.91 0.92 0.93 0.94 0.95 0.96 0.97]\n"
     ]
    }
   ],
   "source": [
    "threshold_list = np.arange(0.90, 0.98, 0.01)\n",
    "print(threshold_list)"
   ]
  },
  {
   "cell_type": "markdown",
   "metadata": {},
   "source": [
    "# Finding Principal"
   ]
  },
  {
   "cell_type": "code",
   "execution_count": 12,
   "metadata": {},
   "outputs": [
    {
     "name": "stdout",
     "output_type": "stream",
     "text": [
      "Number of components is 3 With threshold : 0.90\n",
      "Number of components is 3 With threshold : 0.91\n",
      "Number of components is 4 With threshold : 0.92\n",
      "Number of components is 4 With threshold : 0.93\n",
      "Number of components is 5 With threshold : 0.94\n",
      "Number of components is 5 With threshold : 0.95\n",
      "Number of components is 6 With threshold : 0.96\n",
      "Number of components is 7 With threshold : 0.97\n"
     ]
    }
   ],
   "source": [
    "sort_idx = np.argsort(eig_val) ## indices for eigenvalues which are in ascending order\n",
    "sort_idx = sort_idx[::-1]\n",
    "\n",
    "eig_val_sum = np.sum(eig_val)\n",
    "\n",
    "principal_eig_vec = []\n",
    "principal_eig_val = []\n",
    "\n",
    "for t in threshold_list:\n",
    "    temp_sum = 0\n",
    "    temp_val = []\n",
    "    temp_vec = []\n",
    "    i=0\n",
    "    while(temp_sum<t*eig_val_sum):\n",
    "        temp_vec.append(eigen_vec_ls[sort_idx[i]])\n",
    "        temp_val.append(eig_val[sort_idx[i]])\n",
    "        temp_sum += eig_val[sort_idx[i]]\n",
    "        i += 1\n",
    "    print(\"Number of components is {}\".format(i) + \" With threshold : %.2f\"%t)\n",
    "    principal_eig_vec.append(temp_vec)\n",
    "    principal_eig_val.append(temp_val)"
   ]
  },
  {
   "cell_type": "markdown",
   "metadata": {},
   "source": [
    "# Scree Plot"
   ]
  },
  {
   "cell_type": "code",
   "execution_count": 13,
   "metadata": {},
   "outputs": [
    {
     "data": {
      "image/png": "[encoded data removed]",
      "text/plain": [
       "<Figure size 720x792 with 8 Axes>"
      ]
     },
     "metadata": {
      "needs_background": "light"
     },
     "output_type": "display_data"
    }
   ],
   "source": [
    "fig = plt.figure(figsize=(10, 11))\n",
    "for i in range(len(principal_eig_vec)):\n",
    "    ax = fig.add_subplot(4, 2, i+1)\n",
    "    ax.title.set_text(\"With threshold value: %.2f\"%threshold_list[i])\n",
    "    ax.plot(principal_eig_val[i])\n",
    "\n",
    "plt.tight_layout()"
   ]
  },
  {
   "cell_type": "code",
   "execution_count": null,
   "metadata": {},
   "outputs": [],
   "source": []
  }
 ],
 "metadata": {
  "kernelspec": {
   "display_name": "Python 3",
   "language": "python",
   "name": "python3"
  },
  "language_info": {
   "codemirror_mode": {
    "name": "ipython",
    "version": 3
   },
   "file_extension": ".py",
   "mimetype": "text/x-python",
   "name": "python",
   "nbconvert_exporter": "python",
   "pygments_lexer": "ipython3",
   "version": "3.6.10"
  }
 },
 "nbformat": 4,
 "nbformat_minor": 4
}
