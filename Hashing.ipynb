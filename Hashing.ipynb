{
 "cells": [
  {
   "cell_type": "markdown",
   "metadata": {},
   "source": [
    "# Imports"
   ]
  },
  {
   "cell_type": "code",
   "execution_count": null,
   "metadata": {},
   "outputs": [],
   "source": [
    "import numpy as np\n",
    "import matplotlib.pyplot as plt\n",
    "import matplotlib.image as mpimg\n",
    "import os\n",
    "from random import sample\n",
    "import shutil\n",
    "from zipfile import ZipFile ## Download this library if not available\n",
    "import warnings\n",
    "\n",
    "warnings.filterwarnings(\"ignore\") ##Ignore all sort of warnings"
   ]
  },
  {
   "cell_type": "markdown",
   "metadata": {},
   "source": [
    "# Extracting data from zip"
   ]
  },
  {
   "cell_type": "code",
   "execution_count": null,
   "metadata": {},
   "outputs": [],
   "source": [
    "my_dir = os.getcwd() ## my_dir is my current working folder\n",
    "zip_folder = os.path.join(my_dir,\"yalefaces.zip\")\n",
    "print(\"Path to the zipped folder is {}\".format(zip_folder))\n",
    "with ZipFile(zip_folder, 'r') as zip: \n",
    "    zip.extractall()"
   ]
  },
  {
   "cell_type": "markdown",
   "metadata": {},
   "source": [
    "# Working with data directories"
   ]
  },
  {
   "cell_type": "code",
   "execution_count": 52,
   "metadata": {},
   "outputs": [],
   "source": [
    "data_folder = os.path.join(my_dir,\"yaleface\")\n",
    "file_list = os.listdir(data_folder)"
   ]
  },
  {
   "cell_type": "code",
   "execution_count": 53,
   "metadata": {},
   "outputs": [
    {
     "name": "stdout",
     "output_type": "stream",
     "text": [
      "['01', '02', '03', '04', '05', '06', '07', '08', '09', '10', '11', '12', '13', '14', '15']\n",
      "[['D:\\\\Eckovation\\\\yaleface\\\\subject01.centerlight', 'D:\\\\Eckovation\\\\yaleface\\\\subject01.glasses', 'D:\\\\Eckovation\\\\yaleface\\\\subject01.happy', 'D:\\\\Eckovation\\\\yaleface\\\\subject01.leftlight', 'D:\\\\Eckovation\\\\yaleface\\\\subject01.noglasses', 'D:\\\\Eckovation\\\\yaleface\\\\subject01.normal', 'D:\\\\Eckovation\\\\yaleface\\\\subject01.rightlight', 'D:\\\\Eckovation\\\\yaleface\\\\subject01.sad', 'D:\\\\Eckovation\\\\yaleface\\\\subject01.sleepy', 'D:\\\\Eckovation\\\\yaleface\\\\subject01.surprised', 'D:\\\\Eckovation\\\\yaleface\\\\subject01.wink'], ['D:\\\\Eckovation\\\\yaleface\\\\subject02.centerlight', 'D:\\\\Eckovation\\\\yaleface\\\\subject02.glasses', 'D:\\\\Eckovation\\\\yaleface\\\\subject02.happy', 'D:\\\\Eckovation\\\\yaleface\\\\subject02.leftlight', 'D:\\\\Eckovation\\\\yaleface\\\\subject02.noglasses', 'D:\\\\Eckovation\\\\yaleface\\\\subject02.normal', 'D:\\\\Eckovation\\\\yaleface\\\\subject02.rightlight', 'D:\\\\Eckovation\\\\yaleface\\\\subject02.sad', 'D:\\\\Eckovation\\\\yaleface\\\\subject02.sleepy', 'D:\\\\Eckovation\\\\yaleface\\\\subject02.surprised', 'D:\\\\Eckovation\\\\yaleface\\\\subject02.wink'], ['D:\\\\Eckovation\\\\yaleface\\\\subject03.centerlight', 'D:\\\\Eckovation\\\\yaleface\\\\subject03.glasses', 'D:\\\\Eckovation\\\\yaleface\\\\subject03.happy', 'D:\\\\Eckovation\\\\yaleface\\\\subject03.leftlight', 'D:\\\\Eckovation\\\\yaleface\\\\subject03.noglasses', 'D:\\\\Eckovation\\\\yaleface\\\\subject03.normal', 'D:\\\\Eckovation\\\\yaleface\\\\subject03.rightlight', 'D:\\\\Eckovation\\\\yaleface\\\\subject03.sad', 'D:\\\\Eckovation\\\\yaleface\\\\subject03.sleepy', 'D:\\\\Eckovation\\\\yaleface\\\\subject03.surprised', 'D:\\\\Eckovation\\\\yaleface\\\\subject03.wink'], ['D:\\\\Eckovation\\\\yaleface\\\\subject04.centerlight', 'D:\\\\Eckovation\\\\yaleface\\\\subject04.glasses', 'D:\\\\Eckovation\\\\yaleface\\\\subject04.happy', 'D:\\\\Eckovation\\\\yaleface\\\\subject04.leftlight', 'D:\\\\Eckovation\\\\yaleface\\\\subject04.noglasses', 'D:\\\\Eckovation\\\\yaleface\\\\subject04.normal', 'D:\\\\Eckovation\\\\yaleface\\\\subject04.rightlight', 'D:\\\\Eckovation\\\\yaleface\\\\subject04.sad', 'D:\\\\Eckovation\\\\yaleface\\\\subject04.sleepy', 'D:\\\\Eckovation\\\\yaleface\\\\subject04.surprised', 'D:\\\\Eckovation\\\\yaleface\\\\subject04.wink'], ['D:\\\\Eckovation\\\\yaleface\\\\subject05.centerlight', 'D:\\\\Eckovation\\\\yaleface\\\\subject05.glasses', 'D:\\\\Eckovation\\\\yaleface\\\\subject05.happy', 'D:\\\\Eckovation\\\\yaleface\\\\subject05.leftlight', 'D:\\\\Eckovation\\\\yaleface\\\\subject05.noglasses', 'D:\\\\Eckovation\\\\yaleface\\\\subject05.normal', 'D:\\\\Eckovation\\\\yaleface\\\\subject05.rightlight', 'D:\\\\Eckovation\\\\yaleface\\\\subject05.sad', 'D:\\\\Eckovation\\\\yaleface\\\\subject05.sleepy', 'D:\\\\Eckovation\\\\yaleface\\\\subject05.surprised', 'D:\\\\Eckovation\\\\yaleface\\\\subject05.wink'], ['D:\\\\Eckovation\\\\yaleface\\\\subject06.centerlight', 'D:\\\\Eckovation\\\\yaleface\\\\subject06.glasses', 'D:\\\\Eckovation\\\\yaleface\\\\subject06.happy', 'D:\\\\Eckovation\\\\yaleface\\\\subject06.leftlight', 'D:\\\\Eckovation\\\\yaleface\\\\subject06.noglasses', 'D:\\\\Eckovation\\\\yaleface\\\\subject06.normal', 'D:\\\\Eckovation\\\\yaleface\\\\subject06.rightlight', 'D:\\\\Eckovation\\\\yaleface\\\\subject06.sad', 'D:\\\\Eckovation\\\\yaleface\\\\subject06.sleepy', 'D:\\\\Eckovation\\\\yaleface\\\\subject06.surprised', 'D:\\\\Eckovation\\\\yaleface\\\\subject06.wink'], ['D:\\\\Eckovation\\\\yaleface\\\\subject07.centerlight', 'D:\\\\Eckovation\\\\yaleface\\\\subject07.glasses', 'D:\\\\Eckovation\\\\yaleface\\\\subject07.happy', 'D:\\\\Eckovation\\\\yaleface\\\\subject07.leftlight', 'D:\\\\Eckovation\\\\yaleface\\\\subject07.noglasses', 'D:\\\\Eckovation\\\\yaleface\\\\subject07.normal', 'D:\\\\Eckovation\\\\yaleface\\\\subject07.rightlight', 'D:\\\\Eckovation\\\\yaleface\\\\subject07.sad', 'D:\\\\Eckovation\\\\yaleface\\\\subject07.sleepy', 'D:\\\\Eckovation\\\\yaleface\\\\subject07.surprised', 'D:\\\\Eckovation\\\\yaleface\\\\subject07.wink'], ['D:\\\\Eckovation\\\\yaleface\\\\subject08.centerlight', 'D:\\\\Eckovation\\\\yaleface\\\\subject08.glasses', 'D:\\\\Eckovation\\\\yaleface\\\\subject08.happy', 'D:\\\\Eckovation\\\\yaleface\\\\subject08.leftlight', 'D:\\\\Eckovation\\\\yaleface\\\\subject08.noglasses', 'D:\\\\Eckovation\\\\yaleface\\\\subject08.normal', 'D:\\\\Eckovation\\\\yaleface\\\\subject08.rightlight', 'D:\\\\Eckovation\\\\yaleface\\\\subject08.sad', 'D:\\\\Eckovation\\\\yaleface\\\\subject08.sleepy', 'D:\\\\Eckovation\\\\yaleface\\\\subject08.surprised', 'D:\\\\Eckovation\\\\yaleface\\\\subject08.wink'], ['D:\\\\Eckovation\\\\yaleface\\\\subject09.centerlight', 'D:\\\\Eckovation\\\\yaleface\\\\subject09.glasses', 'D:\\\\Eckovation\\\\yaleface\\\\subject09.happy', 'D:\\\\Eckovation\\\\yaleface\\\\subject09.leftlight', 'D:\\\\Eckovation\\\\yaleface\\\\subject09.noglasses', 'D:\\\\Eckovation\\\\yaleface\\\\subject09.normal', 'D:\\\\Eckovation\\\\yaleface\\\\subject09.rightlight', 'D:\\\\Eckovation\\\\yaleface\\\\subject09.sad', 'D:\\\\Eckovation\\\\yaleface\\\\subject09.sleepy', 'D:\\\\Eckovation\\\\yaleface\\\\subject09.surprised', 'D:\\\\Eckovation\\\\yaleface\\\\subject09.wink'], ['D:\\\\Eckovation\\\\yaleface\\\\subject10.centerlight', 'D:\\\\Eckovation\\\\yaleface\\\\subject10.glasses', 'D:\\\\Eckovation\\\\yaleface\\\\subject10.happy', 'D:\\\\Eckovation\\\\yaleface\\\\subject10.leftlight', 'D:\\\\Eckovation\\\\yaleface\\\\subject10.noglasses', 'D:\\\\Eckovation\\\\yaleface\\\\subject10.normal', 'D:\\\\Eckovation\\\\yaleface\\\\subject10.rightlight', 'D:\\\\Eckovation\\\\yaleface\\\\subject10.sad', 'D:\\\\Eckovation\\\\yaleface\\\\subject10.sleepy', 'D:\\\\Eckovation\\\\yaleface\\\\subject10.surprised', 'D:\\\\Eckovation\\\\yaleface\\\\subject10.wink'], ['D:\\\\Eckovation\\\\yaleface\\\\subject11.centerlight', 'D:\\\\Eckovation\\\\yaleface\\\\subject11.glasses', 'D:\\\\Eckovation\\\\yaleface\\\\subject11.happy', 'D:\\\\Eckovation\\\\yaleface\\\\subject11.leftlight', 'D:\\\\Eckovation\\\\yaleface\\\\subject11.noglasses', 'D:\\\\Eckovation\\\\yaleface\\\\subject11.normal', 'D:\\\\Eckovation\\\\yaleface\\\\subject11.rightlight', 'D:\\\\Eckovation\\\\yaleface\\\\subject11.sad', 'D:\\\\Eckovation\\\\yaleface\\\\subject11.sleepy', 'D:\\\\Eckovation\\\\yaleface\\\\subject11.surprised', 'D:\\\\Eckovation\\\\yaleface\\\\subject11.wink'], ['D:\\\\Eckovation\\\\yaleface\\\\subject12.centerlight', 'D:\\\\Eckovation\\\\yaleface\\\\subject12.glasses', 'D:\\\\Eckovation\\\\yaleface\\\\subject12.happy', 'D:\\\\Eckovation\\\\yaleface\\\\subject12.leftlight', 'D:\\\\Eckovation\\\\yaleface\\\\subject12.noglasses', 'D:\\\\Eckovation\\\\yaleface\\\\subject12.normal', 'D:\\\\Eckovation\\\\yaleface\\\\subject12.rightlight', 'D:\\\\Eckovation\\\\yaleface\\\\subject12.sad', 'D:\\\\Eckovation\\\\yaleface\\\\subject12.sleepy', 'D:\\\\Eckovation\\\\yaleface\\\\subject12.surprised', 'D:\\\\Eckovation\\\\yaleface\\\\subject12.wink'], ['D:\\\\Eckovation\\\\yaleface\\\\subject13.centerlight', 'D:\\\\Eckovation\\\\yaleface\\\\subject13.glasses', 'D:\\\\Eckovation\\\\yaleface\\\\subject13.happy', 'D:\\\\Eckovation\\\\yaleface\\\\subject13.leftlight', 'D:\\\\Eckovation\\\\yaleface\\\\subject13.noglasses', 'D:\\\\Eckovation\\\\yaleface\\\\subject13.normal', 'D:\\\\Eckovation\\\\yaleface\\\\subject13.rightlight', 'D:\\\\Eckovation\\\\yaleface\\\\subject13.sad', 'D:\\\\Eckovation\\\\yaleface\\\\subject13.sleepy', 'D:\\\\Eckovation\\\\yaleface\\\\subject13.surprised', 'D:\\\\Eckovation\\\\yaleface\\\\subject13.wink'], ['D:\\\\Eckovation\\\\yaleface\\\\subject14.centerlight', 'D:\\\\Eckovation\\\\yaleface\\\\subject14.glasses', 'D:\\\\Eckovation\\\\yaleface\\\\subject14.happy', 'D:\\\\Eckovation\\\\yaleface\\\\subject14.leftlight', 'D:\\\\Eckovation\\\\yaleface\\\\subject14.noglasses', 'D:\\\\Eckovation\\\\yaleface\\\\subject14.normal', 'D:\\\\Eckovation\\\\yaleface\\\\subject14.rightlight', 'D:\\\\Eckovation\\\\yaleface\\\\subject14.sad', 'D:\\\\Eckovation\\\\yaleface\\\\subject14.sleepy', 'D:\\\\Eckovation\\\\yaleface\\\\subject14.surprised', 'D:\\\\Eckovation\\\\yaleface\\\\subject14.wink'], ['D:\\\\Eckovation\\\\yaleface\\\\subject15.centerlight', 'D:\\\\Eckovation\\\\yaleface\\\\subject15.glasses', 'D:\\\\Eckovation\\\\yaleface\\\\subject15.happy', 'D:\\\\Eckovation\\\\yaleface\\\\subject15.leftlight', 'D:\\\\Eckovation\\\\yaleface\\\\subject15.noglasses', 'D:\\\\Eckovation\\\\yaleface\\\\subject15.normal', 'D:\\\\Eckovation\\\\yaleface\\\\subject15.rightlight', 'D:\\\\Eckovation\\\\yaleface\\\\subject15.sad', 'D:\\\\Eckovation\\\\yaleface\\\\subject15.sleepy', 'D:\\\\Eckovation\\\\yaleface\\\\subject15.surprised', 'D:\\\\Eckovation\\\\yaleface\\\\subject15.wink']]\n"
     ]
    }
   ],
   "source": [
    "train_folder_path = os.path.join(my_dir,\"Faces_Train\")\n",
    "test_folder_path = os.path.join(my_dir,\"Faces_Test\")\n",
    "\n",
    "## Delete the folders if they exist already\n",
    "if os.path.exists(train_folder_path):\n",
    "    shutil.rmtree(train_folder_path)\n",
    "\n",
    "if os.path.exists(test_folder_path):\n",
    "    shutil.rmtree(test_folder_path)\n",
    "\n",
    "os.mkdir(train_folder_path)  ## Creates a new directory\n",
    "os.mkdir(test_folder_path) ## Creates a new directory\n",
    "\n",
    "idx_list = [str(i).zfill(2) for i in range(1,16,1)] ##Creates numbers with leading zeros(i.e. 01 instead of 1, 02 instaed of 2 etc.)\n",
    "print(idx_list)\n",
    "\n",
    "file_name_list = [[] for i in range(15)]\n",
    "\n",
    "for i in range(len(idx_list)):\n",
    "    for fname in file_list:\n",
    "        if fname.startswith(\"subject\"+idx_list[i]):\n",
    "            file_name_list[i].append(os.path.join(data_folder,fname))\n",
    "\n",
    "print(file_name_list)\n",
    "\n",
    "for i in range(len(idx_list)):\n",
    "    ls = file_name_list[i]  ## Finds a list within the 'file_name_list',which contains the paths to images of a particular subject\n",
    "    \n",
    "    ## Since a single list contains paths to the images of a particular subject and each subject has 11 images, we will randomly choose an index between 0 and 11\n",
    "    test_idx = np.random.choice(11)  \n",
    "    test_file = ls[test_idx]\n",
    "    shutil.copy(test_file,test_folder_path)\n",
    "    \n",
    "    ls.remove(ls[test_idx])\n",
    "    \n",
    "    for train_file in ls:\n",
    "        shutil.copy(train_file,train_folder_path)"
   ]
  },
  {
   "cell_type": "code",
   "execution_count": 54,
   "metadata": {},
   "outputs": [
    {
     "name": "stdout",
     "output_type": "stream",
     "text": [
      "(150, 77760)\n",
      "(1, 77760)\n",
      "(150, 150)\n"
     ]
    }
   ],
   "source": [
    "train_files_list = os.listdir(train_folder_path)\n",
    "#print(train_files_list)\n",
    "train_ls = []\n",
    "for file in train_files_list:\n",
    "    img_file = os.path.join(train_folder_path,file)\n",
    "    arr = mpimg.imread(img_file)\n",
    "    #print(arr.shape)\n",
    "    arr = arr.reshape(1,arr.shape[0]*arr.shape[1]) ## Convert to a 1D matrix\n",
    "    train_ls.append(np.ravel(arr)) ## Before appending, convert the 1D martix to a 1d array using np.ravel \n",
    "train_mat = np.matrix(train_ls)\n",
    "print(train_mat.shape)\n",
    "mean_img = np.mean(train_mat,axis=0)\n",
    "print(mean_img.shape)\n",
    "cov = np.cov(train_mat)\n",
    "print(cov.shape)\n",
    "eig_val,eig_vec = np.linalg.eig(cov)"
   ]
  },
  {
   "cell_type": "code",
   "execution_count": 55,
   "metadata": {},
   "outputs": [],
   "source": [
    "eigen_vec_ls = []\n",
    "#eig1 = train_mat.T@eig_vec[:,0]\n",
    "#print(eig1.shape)\n",
    "for i in range(eig_vec.shape[1]):\n",
    "    eig1 = train_mat.T@eig_vec[:,i]\n",
    "    eig1 = eig1/eig_val[i]\n",
    "    eigen_vec_ls.append(np.ravel(eig1))"
   ]
  },
  {
   "cell_type": "code",
   "execution_count": 56,
   "metadata": {},
   "outputs": [
    {
     "name": "stdout",
     "output_type": "stream",
     "text": [
      "Number of components is 28\n"
     ]
    }
   ],
   "source": [
    "sort_idx = np.argsort(eig_val) ## indices for eigenvalues which are in ascending order\n",
    "sort_idx = sort_idx[::-1]\n",
    "\n",
    "eig_val_sum = np.sum(eig_val)\n",
    "temp_sum = 0\n",
    "principal_eig_vec = []\n",
    "principal_eig_val = []\n",
    "i=0\n",
    "while(temp_sum<0.95*eig_val_sum):\n",
    "    principal_eig_vec.append(eigen_vec_ls[sort_idx[i]])\n",
    "    principal_eig_val.append(eig_val[sort_idx[i]])\n",
    "    temp_sum += eig_val[sort_idx[i]]\n",
    "    i += 1\n",
    "print(\"Number of components is {}\".format(i))"
   ]
  },
  {
   "cell_type": "markdown",
   "metadata": {},
   "source": [
    "## SOL 2"
   ]
  },
  {
   "cell_type": "code",
   "execution_count": 57,
   "metadata": {},
   "outputs": [],
   "source": [
    "mu = mean_img"
   ]
  },
  {
   "cell_type": "code",
   "execution_count": 58,
   "metadata": {},
   "outputs": [],
   "source": [
    "Q_hat = np.matrix(principal_eig_vec)"
   ]
  },
  {
   "cell_type": "code",
   "execution_count": 59,
   "metadata": {},
   "outputs": [
    {
     "name": "stdout",
     "output_type": "stream",
     "text": [
      "[[123.02666667 123.12       123.48       ...  68.          68.\n",
      "   68.        ]]\n",
      "[[ 0.00213529+0.j  0.00214677+0.j  0.00215752+0.j ...  0.00116381+0.j\n",
      "   0.00116381+0.j  0.00116381+0.j]\n",
      " [ 0.00074259+0.j  0.00060178+0.j  0.00053262+0.j ...  0.00052511+0.j\n",
      "   0.00052511+0.j  0.00052511+0.j]\n",
      " [-0.00103015+0.j -0.00088853+0.j -0.00101814+0.j ... -0.00147415+0.j\n",
      "  -0.00147415+0.j -0.00147415+0.j]\n",
      " ...\n",
      " [-0.01071212+0.j -0.0137249 +0.j -0.01541506+0.j ... -0.00600069+0.j\n",
      "  -0.00600069+0.j -0.00600069+0.j]\n",
      " [-0.01102957+0.j -0.01038227+0.j -0.00783687+0.j ... -0.00315606+0.j\n",
      "  -0.00315606+0.j -0.00315606+0.j]\n",
      " [ 0.01342805+0.j  0.01189997+0.j  0.01051877+0.j ...  0.00497032+0.j\n",
      "   0.00497032+0.j  0.00497032+0.j]]\n"
     ]
    }
   ],
   "source": [
    "print(mu)\n",
    "print(Q_hat)"
   ]
  },
  {
   "cell_type": "markdown",
   "metadata": {},
   "source": [
    "## SOL 3"
   ]
  },
  {
   "cell_type": "code",
   "execution_count": 60,
   "metadata": {},
   "outputs": [],
   "source": [
    "test_files = os.listdir(test_folder_path)\n",
    "feat_vec_ls = []\n",
    "for file in test_files:\n",
    "    img_file = os.path.join(test_folder_path,file)\n",
    "    test_img = mpimg.imread(img_file)\n",
    "    test_img = test_img.reshape(arr.shape[0]*arr.shape[1],1)\n",
    "    test_img = test_img - mean_img.T\n",
    "    #print(np.linalg.pinv(Q_hat).shape,test_img.shape)\n",
    "    feat_vec = np.linalg.pinv(Q_hat).T@test_img\n",
    "    feat_vec_ls.append(np.ravel(feat_vec))"
   ]
  },
  {
   "cell_type": "code",
   "execution_count": 61,
   "metadata": {},
   "outputs": [
    {
     "name": "stdout",
     "output_type": "stream",
     "text": [
      "[array([-2856.54807971+0.j, -7423.81718459+0.j, -1855.97720439+0.j,\n",
      "       -1870.63843002+0.j, -2382.36374606+0.j,   428.72635078+0.j,\n",
      "         717.25693231+0.j,   242.43817761+0.j,  1508.06039985+0.j,\n",
      "        -487.93921429+0.j,   201.39918138+0.j,  1256.75232757+0.j,\n",
      "       -1180.09925241+0.j,  -487.11949577+0.j,   137.97426772+0.j,\n",
      "         493.31185267+0.j,   -70.56040171+0.j,  -374.0133857 +0.j,\n",
      "         144.11429312+0.j,   197.64945051+0.j,  -342.55415672+0.j,\n",
      "         131.86979126+0.j,  -238.2392443 +0.j,    78.67343603+0.j,\n",
      "         300.6315067 +0.j,    33.9981009 +0.j,  -241.02018073+0.j,\n",
      "         -27.94309214+0.j]), array([ 3.23490999e+02+0.j, -2.04240523e+04+0.j, -4.73584602e+03+0.j,\n",
      "       -2.91183851e+02+0.j, -3.54676140e+02+0.j,  1.74924116e+03+0.j,\n",
      "        2.59783511e+03+0.j, -1.10118556e+03+0.j, -1.65595479e+03+0.j,\n",
      "        2.78264186e+02+0.j, -1.11337016e+03+0.j,  5.06278803e+02+0.j,\n",
      "        3.97939073e+02+0.j,  3.06434052e+02+0.j, -6.86201294e+02+0.j,\n",
      "       -1.73363341e+02+0.j,  1.71128692e+02+0.j,  8.63567503e+01+0.j,\n",
      "        1.84717712e+02+0.j, -2.53073648e+02+0.j,  1.68235061e+02+0.j,\n",
      "       -1.32667000e+02+0.j, -1.75898645e+01+0.j, -3.41507242e+02+0.j,\n",
      "       -7.66988431e+01+0.j,  6.58206053e+01+0.j,  7.28203850e+01+0.j,\n",
      "        3.56556977e+01+0.j]), array([-4.60677734e+02+0.j, -2.78297519e+04+0.j,  5.93117647e+03+0.j,\n",
      "        5.26409161e+03+0.j,  2.59259117e+03+0.j, -1.61328458e+03+0.j,\n",
      "       -1.98026835e+03+0.j, -1.76407285e+03+0.j,  1.15953463e+03+0.j,\n",
      "        1.38630081e+03+0.j,  5.08448217e+02+0.j, -1.82445136e+02+0.j,\n",
      "       -6.09372546e+02+0.j,  2.43809171e+02+0.j, -1.95668288e+02+0.j,\n",
      "       -4.86854760e+00+0.j, -1.37758996e+02+0.j,  1.17536951e+02+0.j,\n",
      "        6.11261787e+01+0.j, -7.61306719e+01+0.j,  2.54437380e+02+0.j,\n",
      "        4.90268488e+01+0.j,  1.71056033e+02+0.j, -1.61514287e+01+0.j,\n",
      "       -1.66616970e+02+0.j, -5.47377428e+01+0.j,  1.61745997e+02+0.j,\n",
      "       -6.24603079e+00+0.j]), array([ 1.30129861e+04+0.j, -9.59723808e+03+0.j, -4.07399289e+03+0.j,\n",
      "       -2.13815824e+03+0.j, -1.67610191e+03+0.j,  5.57114653e+02+0.j,\n",
      "        1.26663487e+03+0.j, -1.21529459e+03+0.j,  7.60060379e+02+0.j,\n",
      "       -2.09654986e+01+0.j,  1.39619967e+03+0.j, -1.35761450e+02+0.j,\n",
      "       -2.98754257e+02+0.j, -1.45237100e+02+0.j,  4.64197961e+02+0.j,\n",
      "       -3.04536008e+02+0.j,  2.26441938e+01+0.j, -2.50041392e+02+0.j,\n",
      "        7.88201381e+01+0.j, -3.71314562e+00+0.j,  5.75297358e+01+0.j,\n",
      "       -1.03665427e+02+0.j,  1.44683872e+01+0.j,  3.61110759e+01+0.j,\n",
      "       -1.66838903e+02+0.j,  2.93396703e+01+0.j,  2.38099706e+02+0.j,\n",
      "       -1.23260348e+01+0.j]), array([  -210.04436318+0.j, -10927.47564287+0.j,  -3679.17682092+0.j,\n",
      "          502.31030114+0.j,   1870.32929386+0.j,    199.51040162+0.j,\n",
      "         -332.09062781+0.j,   1177.20719324+0.j,   -212.59459488+0.j,\n",
      "          102.89889106+0.j,   -494.94945141+0.j,    140.71713769+0.j,\n",
      "          559.84958683+0.j,   -328.62902386+0.j,    419.11231663+0.j,\n",
      "         -159.71034094+0.j,     97.87833578+0.j,   -109.57645872+0.j,\n",
      "          -62.49926956+0.j,    -88.22665226+0.j,     86.80653923+0.j,\n",
      "           35.2272648 +0.j,    147.69135596+0.j,    235.11831946+0.j,\n",
      "          -42.92965099+0.j,   -221.67405896+0.j,     29.64821234+0.j,\n",
      "           62.68567819+0.j]), array([-31857.74336314+0.j,  30734.73532745+0.j,  -1353.17972254+0.j,\n",
      "         4579.40352057+0.j,  -1507.20622978+0.j,   -141.39611315+0.j,\n",
      "         1047.42428861+0.j,   -286.33989808+0.j,    906.41001195+0.j,\n",
      "         -402.48745381+0.j,  -1180.24192004+0.j,    215.78119285+0.j,\n",
      "         -812.65398014+0.j,   -652.84162407+0.j,    872.31189194+0.j,\n",
      "         -179.04160843+0.j,   -780.10091978+0.j,    826.45324012+0.j,\n",
      "          521.16423453+0.j,    -37.78757072+0.j,    342.39868505+0.j,\n",
      "          504.58591502+0.j,   -146.12026541+0.j,    -94.41757581+0.j,\n",
      "         -318.0779731 +0.j,   -185.03408437+0.j,    -93.53834285+0.j,\n",
      "          -71.25972446+0.j]), array([ 1.70953555e+04+0.j,  9.74367420e+03+0.j,  5.30525579e+03+0.j,\n",
      "       -2.55081861e+03+0.j,  7.71077704e+02+0.j, -1.57616811e+03+0.j,\n",
      "        2.31025110e+02+0.j, -7.33549474e+02+0.j, -1.64834690e+03+0.j,\n",
      "       -3.61541987e+02+0.j,  8.14833151e+02+0.j,  1.03955061e+02+0.j,\n",
      "        7.95339923e+02+0.j,  4.28700846e+02+0.j, -8.52110842e+00+0.j,\n",
      "        3.86163449e+02+0.j,  6.73134245e+01+0.j,  2.87750219e+02+0.j,\n",
      "        2.29427886e+02+0.j, -3.41031309e+02+0.j, -1.52032680e+02+0.j,\n",
      "        3.24486390e+02+0.j, -4.50185773e+01+0.j, -1.55137732e+01+0.j,\n",
      "        4.75019926e+01+0.j,  2.11728695e+02+0.j, -2.64435206e+01+0.j,\n",
      "        2.58355668e+02+0.j]), array([ 3533.61328492+0.j,  7770.69120722+0.j,  5358.07542954+0.j,\n",
      "       -2644.73396278+0.j,  -473.78140506+0.j,  1706.95023852+0.j,\n",
      "        -474.47918008+0.j,   551.76306344+0.j,  -854.61143449+0.j,\n",
      "         101.01355909+0.j,  -301.42615552+0.j,  -377.39440357+0.j,\n",
      "          34.10674283+0.j,  -197.60440934+0.j,   527.71252942+0.j,\n",
      "         509.98055308+0.j,    51.60040142+0.j,  -520.30718678+0.j,\n",
      "        -139.26911286+0.j,  -284.48439473+0.j,   -71.27151173+0.j,\n",
      "         -97.95940702+0.j,  -288.38199066+0.j,   103.95922168+0.j,\n",
      "        -257.03844838+0.j,   -42.16425947+0.j,  -131.84046171+0.j,\n",
      "         150.86301764+0.j]), array([ 4.06247600e+03+0.j,  1.11242185e+04+0.j,  5.82982692e+03+0.j,\n",
      "       -4.02355820e+01+0.j,  8.92907983e+02+0.j,  1.15532369e+03+0.j,\n",
      "        7.27461987e+02+0.j,  1.65504119e+03+0.j, -2.34912380e+03+0.j,\n",
      "        2.14127677e+02+0.j,  4.12197824e+02+0.j,  3.39644384e+02+0.j,\n",
      "       -9.76932831e+02+0.j, -2.83455886e+02+0.j, -4.33038582e+02+0.j,\n",
      "       -4.52162935e+02+0.j,  1.58470692e+02+0.j,  4.35847889e+02+0.j,\n",
      "       -1.76848121e+02+0.j, -1.86685791e+02+0.j,  7.75638456e+01+0.j,\n",
      "        1.13678634e+02+0.j,  1.67665689e+02+0.j, -4.06735385e+01+0.j,\n",
      "        4.85538246e+00+0.j,  3.75679341e+01+0.j,  4.50002548e+01+0.j,\n",
      "       -1.24840445e+02+0.j]), array([ 1.68872427e+04+0.j,  4.97196799e+03+0.j,  4.22672675e+03+0.j,\n",
      "       -4.43394546e+03+0.j, -3.04789820e+03+0.j,  2.28127090e+03+0.j,\n",
      "       -1.14611721e+03+0.j, -2.25719128e+02+0.j,  1.01534158e+03+0.j,\n",
      "       -4.37241387e+02+0.j, -6.12262775e+02+0.j, -1.08330900e+03+0.j,\n",
      "        6.57442235e+02+0.j, -2.70232298e+02+0.j, -5.17777800e+02+0.j,\n",
      "       -5.36536800e+02+0.j, -3.61449647e+02+0.j, -3.98641814e+02+0.j,\n",
      "       -1.31432392e+01+0.j, -1.15976784e+02+0.j,  7.86860298e+01+0.j,\n",
      "        1.04275525e+02+0.j, -8.65398339e+01+0.j, -9.49876601e+00+0.j,\n",
      "        1.37467974e+02+0.j, -1.50468711e+02+0.j,  7.71006499e+01+0.j,\n",
      "       -1.29763409e+02+0.j]), array([ 9715.77264183+0.j, -5090.75011645+0.j, -1032.17775952+0.j,\n",
      "        1926.39764436+0.j, -5234.77582597+0.j, -4711.70072928+0.j,\n",
      "       -1785.82604396+0.j,  1684.00805188+0.j,   308.73376641+0.j,\n",
      "       -1139.87922528+0.j,  -302.8338609 +0.j,  -201.66885327+0.j,\n",
      "         331.18489594+0.j,  -718.58909384+0.j,  -156.14088927+0.j,\n",
      "        -618.18372869+0.j,   781.01983694+0.j,   315.48426889+0.j,\n",
      "         752.77219717+0.j,   290.5523343 +0.j,  -122.68889324+0.j,\n",
      "         -83.79176159+0.j,  -312.73660115+0.j,   173.28215546+0.j,\n",
      "        -112.82076076+0.j,  -104.58735634+0.j,   -80.27522429+0.j,\n",
      "          27.37730282+0.j]), array([-1.08524805e+04+0.j, -2.16386203e+04+0.j, -1.18550843e+03+0.j,\n",
      "        4.81115157e+03+0.j,  2.74028274e+03+0.j,  1.26630024e+03+0.j,\n",
      "       -1.01185107e+03+0.j, -2.88376317e+01+0.j, -1.59483877e+03+0.j,\n",
      "        7.59530031e+02+0.j, -9.13562397e+02+0.j, -8.41046510e+02+0.j,\n",
      "        5.53956372e+02+0.j, -1.33790354e+02+0.j, -3.05844432e+02+0.j,\n",
      "        2.72989749e+02+0.j, -4.28297740e+02+0.j,  6.82905919e+01+0.j,\n",
      "       -1.04397407e+03+0.j,  8.12641628e+02+0.j, -7.12268714e+02+0.j,\n",
      "       -1.58926184e+01+0.j, -3.64377750e+02+0.j,  3.80699070e+02+0.j,\n",
      "        3.59244532e+01+0.j,  7.66100511e+02+0.j, -7.70926691e+02+0.j,\n",
      "        4.00458084e+01+0.j]), array([11173.38721572+0.j, -3355.7727541 +0.j, -1974.69303886+0.j,\n",
      "       -2260.80963494+0.j,  6014.13513721+0.j, -2350.97375157+0.j,\n",
      "         397.42729302+0.j,  -401.62538513+0.j,   939.57285859+0.j,\n",
      "       -1605.01832319+0.j,  -398.13120053+0.j,  -696.92401377+0.j,\n",
      "        -744.84369021+0.j,   306.28376097+0.j,  -136.09883014+0.j,\n",
      "          81.20271406+0.j,   188.23780535+0.j,   -93.65714561+0.j,\n",
      "         -66.44341194+0.j,   -77.14059609+0.j,    98.62343239+0.j,\n",
      "         -71.86413374+0.j,    11.8905697 +0.j,   -21.1827539 +0.j,\n",
      "         -12.22000721+0.j,  -154.4962792 +0.j,   113.28380259+0.j,\n",
      "         -92.79272792+0.j]), array([-1.08914443e+04+0.j,  2.14947987e+04+0.j,  3.27438885e+03+0.j,\n",
      "        5.74979100e+03+0.j,  1.57579124e+02+0.j,  7.74449542e+01+0.j,\n",
      "        3.35299522e+03+0.j,  1.31295484e+03+0.j,  1.15184345e+03+0.j,\n",
      "       -3.46959013e+01+0.j,  1.83550060e+02+0.j, -2.73455162e+02+0.j,\n",
      "        8.85058537e+01+0.j,  2.43808753e+02+0.j, -7.23173441e+00+0.j,\n",
      "       -6.76727798e+01+0.j,  1.31791395e+02+0.j, -7.75432438e+01+0.j,\n",
      "        1.14189852e+02+0.j,  7.74411815e+01+0.j,  2.91436206e+02+0.j,\n",
      "        1.89144407e+02+0.j, -1.31806318e+01+0.j,  4.22581634e+01+0.j,\n",
      "       -4.95135188e+01+0.j, -1.99280221e+01+0.j, -5.31892004e+01+0.j,\n",
      "        9.07284286e+01+0.j]), array([ 6616.16235034+0.j,  6874.08904863+0.j,  4632.7249445 +0.j,\n",
      "       -2690.13606528+0.j, -4404.27928332+0.j,  3446.73376148+0.j,\n",
      "         284.01802051+0.j,  -196.01149815+0.j, -1084.02623667+0.j,\n",
      "       -1362.06792958+0.j,  -813.96113636+0.j,  -587.23082097+0.j,\n",
      "         323.77903848+0.j,  1011.10582599+0.j,   761.15689924+0.j,\n",
      "         265.95059758+0.j,   207.28268876+0.j,   357.56326044+0.j,\n",
      "          42.13192983+0.j,   933.57638825+0.j,   -90.02359474+0.j,\n",
      "        -285.19111263+0.j,   232.85239068+0.j,   148.42483408+0.j,\n",
      "         227.89493486+0.j,    95.58782715+0.j,   487.6932223 +0.j,\n",
      "        -165.96315639+0.j])]\n"
     ]
    }
   ],
   "source": [
    "print(feat_vec_ls)"
   ]
  },
  {
   "cell_type": "markdown",
   "metadata": {},
   "source": [
    "## SOL 4 50 random vectors"
   ]
  },
  {
   "cell_type": "code",
   "execution_count": 62,
   "metadata": {},
   "outputs": [],
   "source": [
    "vec_len = len(feat_vec_ls[0])"
   ]
  },
  {
   "cell_type": "code",
   "execution_count": 63,
   "metadata": {},
   "outputs": [],
   "source": [
    "def genRandomHashVector(m, length):\n",
    "    hash_vector = []\n",
    "    for i in range(m):\n",
    "        v = np.random.uniform(-1, 1, length)\n",
    "        vcap = v / np.linalg.norm(v)\n",
    "        hash_vector.append(vcap)\n",
    "    return hash_vector"
   ]
  },
  {
   "cell_type": "code",
   "execution_count": 64,
   "metadata": {},
   "outputs": [
    {
     "name": "stdout",
     "output_type": "stream",
     "text": [
      "[array([ 0.1934939 ,  0.27243028, -0.2458886 , -0.15914453, -0.25981944,\n",
      "       -0.18679621, -0.04237228, -0.06666435,  0.24039586, -0.24264393,\n",
      "        0.1125829 ,  0.19782962,  0.05238855, -0.18984542, -0.03704131,\n",
      "        0.06335903,  0.17880735,  0.10562989, -0.30396836,  0.266182  ,\n",
      "        0.18735538, -0.24682503,  0.13759899, -0.24913813,  0.12686382,\n",
      "        0.16538534,  0.12484094,  0.19704288]), array([-0.02603302,  0.25622859, -0.1715533 ,  0.14766962,  0.06585354,\n",
      "       -0.25287981,  0.18156512, -0.29329017, -0.05330643,  0.22021571,\n",
      "        0.29809373,  0.24060203,  0.2361327 ,  0.12951416, -0.22253012,\n",
      "       -0.25301533,  0.29099691,  0.01275329,  0.13497443, -0.18631384,\n",
      "        0.20555486, -0.28107322,  0.05285801,  0.00205663,  0.18118925,\n",
      "       -0.07953464,  0.08366354,  0.05501709]), array([ 3.00631710e-01, -2.52454379e-02,  3.05957990e-01,  2.98366357e-01,\n",
      "        9.29889776e-02,  6.84795301e-02,  1.89776105e-01,  2.84088004e-01,\n",
      "       -2.39468256e-01, -2.09437352e-01,  3.83720783e-05,  2.02378242e-01,\n",
      "        3.02186794e-01, -1.65618213e-01, -2.65062974e-01, -7.62593397e-02,\n",
      "        2.03855792e-01, -1.90480088e-01,  7.05505367e-02,  1.53305897e-01,\n",
      "        2.75721973e-01,  4.95398631e-02,  1.18625697e-01, -2.42939034e-02,\n",
      "        9.66226141e-02,  1.13417967e-02, -1.16960557e-01, -1.91582016e-01]), array([-0.28322976,  0.18231728, -0.10384736,  0.07142768,  0.12231725,\n",
      "       -0.16163079,  0.04195513, -0.10071746, -0.28177826,  0.1855303 ,\n",
      "       -0.05299474, -0.00359558, -0.13441903, -0.22100563,  0.17046565,\n",
      "        0.06758414, -0.12098733, -0.18293106,  0.26153796,  0.09301116,\n",
      "        0.09185045, -0.34129408,  0.22764461, -0.30893663, -0.34620595,\n",
      "       -0.28199434,  0.05009231,  0.03548709]), array([-0.25955317,  0.0369682 , -0.13137141, -0.15012721,  0.06951239,\n",
      "        0.13725188,  0.30061875,  0.22596112,  0.14998557,  0.23494409,\n",
      "        0.28487233,  0.20550711, -0.29652396, -0.12975892, -0.18377225,\n",
      "       -0.23977188, -0.10603607,  0.25617433, -0.25661735, -0.16935675,\n",
      "        0.1980908 ,  0.24763766,  0.00575458,  0.16332709, -0.08209342,\n",
      "       -0.06679212,  0.07117715, -0.11966319]), array([ 0.2487324 ,  0.2965878 ,  0.03525175, -0.09445292, -0.31042996,\n",
      "        0.13227896,  0.20412321,  0.26436097, -0.10351817, -0.10753201,\n",
      "       -0.19084529, -0.07466655, -0.10848539,  0.26227665, -0.23218368,\n",
      "        0.05948488, -0.2435614 ,  0.09121608,  0.05282939,  0.07212544,\n",
      "        0.08180665, -0.28939368, -0.29036797,  0.01276447,  0.26225742,\n",
      "       -0.1426262 , -0.22544678, -0.1476612 ]), array([-0.28934145, -0.24515772,  0.22049546,  0.17675628, -0.2580069 ,\n",
      "        0.12277496,  0.17298402, -0.22082299, -0.18757595, -0.0648891 ,\n",
      "        0.25888512, -0.09235317, -0.20241329,  0.00973534,  0.27003896,\n",
      "        0.11947221,  0.02992312,  0.19018168,  0.03587869,  0.23113752,\n",
      "        0.09017098, -0.25574292,  0.02974308, -0.10486259, -0.15506764,\n",
      "       -0.18922663,  0.23791812, -0.28130781]), array([-0.02027897, -0.29862973,  0.21533353,  0.20889003,  0.1861523 ,\n",
      "       -0.06383951,  0.23076586,  0.0945494 , -0.01043426, -0.22670856,\n",
      "        0.03276085, -0.29411234,  0.05897617, -0.05673635,  0.00549518,\n",
      "        0.25776687,  0.02693702,  0.0084742 , -0.23967313,  0.23053487,\n",
      "       -0.29441157,  0.020541  , -0.30370178, -0.02559915,  0.14432824,\n",
      "        0.25654169, -0.26172123, -0.24640061]), array([-0.2757318 , -0.19750313, -0.21221146,  0.19808504, -0.28178809,\n",
      "       -0.1728467 ,  0.09471511,  0.22439978, -0.28614661,  0.18239999,\n",
      "        0.22447131, -0.02060325,  0.19306451, -0.21836628, -0.20198989,\n",
      "       -0.2694408 , -0.03562907,  0.20372673,  0.09694436, -0.12872211,\n",
      "        0.29042299, -0.18587496,  0.08615825, -0.07466768, -0.03312   ,\n",
      "       -0.19212715,  0.16725572,  0.03390445]), array([ 0.20479255, -0.22277735,  0.25583097, -0.00753725,  0.28266034,\n",
      "        0.23764093,  0.18528304,  0.15934806, -0.03189659,  0.25041484,\n",
      "        0.05378347, -0.19829521, -0.22037459,  0.33207711,  0.1556005 ,\n",
      "        0.14516101,  0.22802784,  0.30371816,  0.12212874, -0.29258791,\n",
      "        0.1823473 ,  0.16255849, -0.07672601, -0.01902883, -0.00119229,\n",
      "       -0.15549218,  0.04359503, -0.00108053]), array([ 0.18641239, -0.25948811, -0.047837  ,  0.01897223,  0.04648963,\n",
      "       -0.31197235,  0.25718191,  0.04237175, -0.19463083, -0.23844581,\n",
      "       -0.04665681, -0.31126902, -0.11372044,  0.1409155 ,  0.13337152,\n",
      "       -0.04206794, -0.12376445, -0.25396811, -0.17412151,  0.11210849,\n",
      "       -0.02696719, -0.10800532,  0.18038075, -0.18492112,  0.30566055,\n",
      "       -0.17918066, -0.3195193 , -0.22855183]), array([ 0.07763391,  0.27878496,  0.20432061, -0.08422671, -0.06527809,\n",
      "       -0.06067343,  0.23210425,  0.16561038, -0.05383157,  0.0150308 ,\n",
      "        0.03448881, -0.30700676, -0.13934605,  0.2184661 , -0.20306418,\n",
      "       -0.29521378, -0.08246731, -0.02491853,  0.01742735, -0.31219229,\n",
      "       -0.31640368,  0.26036292,  0.16781328, -0.11264428, -0.30042235,\n",
      "        0.18581371,  0.14374088,  0.15713166]), array([-0.03878045,  0.148238  ,  0.02010444,  0.17180022, -0.16503866,\n",
      "        0.25268068,  0.08995254,  0.15411818, -0.09827568,  0.13580465,\n",
      "       -0.28337197, -0.03724618, -0.26638566,  0.26589933, -0.2502336 ,\n",
      "        0.1353519 ,  0.2787396 ,  0.15699088, -0.14445283,  0.17509614,\n",
      "       -0.16817487, -0.04420446,  0.18917966,  0.24057934,  0.19201221,\n",
      "       -0.30289765,  0.25337567, -0.14386767]), array([ 0.13282895, -0.07003995,  0.2751758 , -0.29052947,  0.31232112,\n",
      "        0.26051646,  0.10546732, -0.04146394, -0.03015073, -0.28539993,\n",
      "        0.19444072, -0.2795665 , -0.18237441,  0.28737538, -0.05651321,\n",
      "        0.23188742, -0.03918052,  0.03794223, -0.24942545,  0.15026702,\n",
      "        0.18763041, -0.01151189, -0.22011316, -0.16254211, -0.09600136,\n",
      "        0.20650938,  0.13185097,  0.02657159]), array([ 0.11540263,  0.1588565 ,  0.04827977, -0.23261177, -0.14088418,\n",
      "       -0.16195376, -0.19733818, -0.1180687 , -0.19389831, -0.33010206,\n",
      "       -0.07456777, -0.1765874 , -0.20832729,  0.11224422, -0.17951935,\n",
      "       -0.0785003 ,  0.07051356,  0.2316542 ,  0.149728  ,  0.04867061,\n",
      "        0.26955793,  0.06643207,  0.30879062,  0.28573898,  0.20619275,\n",
      "        0.04918435,  0.24131449, -0.29612217]), array([-0.13622816, -0.02523434,  0.28154136,  0.20756027, -0.26749319,\n",
      "        0.06787348, -0.05236088, -0.23667959, -0.11436154, -0.197144  ,\n",
      "       -0.30199988,  0.12920444, -0.07031335, -0.13359696, -0.25151022,\n",
      "       -0.26298342,  0.19458433, -0.19619572,  0.08207764,  0.05610606,\n",
      "        0.30232218, -0.08785144,  0.19156213,  0.13932492, -0.24478338,\n",
      "        0.03595152,  0.29033907, -0.14668158]), array([-0.17037518, -0.23521488,  0.24649531, -0.3463746 , -0.17800218,\n",
      "        0.27245815, -0.16604409, -0.07930879, -0.22307003, -0.16314972,\n",
      "       -0.23269577, -0.18279333,  0.31972401,  0.11601389,  0.10619645,\n",
      "        0.06818227, -0.05173097,  0.30284557,  0.15994291,  0.16233721,\n",
      "       -0.098209  , -0.10131694,  0.21496383, -0.00642179,  0.10611851,\n",
      "       -0.0846767 ,  0.01248897,  0.26174326]), array([-0.05377189,  0.12609868,  0.20869516,  0.10748893, -0.07377952,\n",
      "       -0.01509169, -0.33383069,  0.1031242 ,  0.29234721, -0.28070804,\n",
      "        0.16336832, -0.34234205, -0.21895335,  0.1486941 ,  0.16482102,\n",
      "        0.04848842, -0.00743476,  0.00892494, -0.10114686, -0.12290294,\n",
      "        0.0167002 , -0.24134727, -0.31482755, -0.16508552, -0.21170081,\n",
      "        0.15453397,  0.24269733, -0.22948842]), array([ 0.29924141, -0.00136119, -0.32720327, -0.00186516,  0.11969604,\n",
      "        0.24146227,  0.2508086 , -0.11549712, -0.17894704,  0.292192  ,\n",
      "       -0.00410073,  0.09561535,  0.13972047, -0.24847049, -0.2899811 ,\n",
      "       -0.33895937, -0.01623585, -0.01812895,  0.13913052, -0.08569168,\n",
      "        0.06668035, -0.10996601,  0.20471801,  0.0118606 , -0.27411533,\n",
      "       -0.19987478, -0.18392014,  0.1136443 ]), array([-0.10727138,  0.30916137, -0.29084318, -0.11629827,  0.24561392,\n",
      "       -0.1917901 , -0.0375545 , -0.29253863,  0.20618472, -0.01099897,\n",
      "       -0.23899662, -0.23271862, -0.07380836,  0.17375733,  0.25480135,\n",
      "        0.17621333, -0.06770432,  0.16862526, -0.29906709,  0.22791409,\n",
      "        0.24385526,  0.0612807 ,  0.06428734, -0.11010103, -0.24453082,\n",
      "        0.04708626,  0.05288939, -0.08052187]), array([-0.03646207, -0.12212869, -0.08409028,  0.05541258,  0.18722122,\n",
      "       -0.26344271,  0.24028164, -0.21699791, -0.29948576,  0.24214928,\n",
      "        0.25769451,  0.14653841,  0.08127624,  0.07703652,  0.15750952,\n",
      "       -0.13414114,  0.20610185, -0.09004429,  0.10226175, -0.13129573,\n",
      "       -0.16328895, -0.20132197, -0.1123601 ,  0.16521723,  0.28716491,\n",
      "       -0.28451726, -0.23330503, -0.2637088 ]), array([-0.22209297, -0.23168419,  0.26688307,  0.23607154,  0.16114526,\n",
      "        0.22736979, -0.02163338,  0.26224799,  0.2047384 , -0.06743377,\n",
      "       -0.05108517, -0.21371777, -0.01253265,  0.24069783, -0.13607142,\n",
      "       -0.21393662,  0.00592059,  0.06327278,  0.19580777,  0.2180968 ,\n",
      "       -0.2163391 , -0.02480019, -0.14446074, -0.20166642,  0.25794677,\n",
      "       -0.16999117, -0.2153902 , -0.25549809]), array([-0.0059362 ,  0.10833379,  0.36399571,  0.09979239, -0.16200985,\n",
      "       -0.04784221,  0.07077692, -0.36725122, -0.0519851 , -0.08209907,\n",
      "        0.00622339,  0.3394271 ,  0.17205886,  0.16670033,  0.10233171,\n",
      "        0.17872279,  0.07393103, -0.22898897,  0.05660442,  0.03441595,\n",
      "        0.06574389, -0.3247315 ,  0.27073452,  0.08407644,  0.12794897,\n",
      "        0.29425899,  0.27759669,  0.14286664]), array([-0.28522856, -0.05785454,  0.09656887,  0.17968044,  0.19279646,\n",
      "       -0.14664862,  0.17325935, -0.24274765,  0.04803193,  0.03289299,\n",
      "       -0.28141262,  0.04096407,  0.17918988, -0.03655529,  0.26969168,\n",
      "        0.28022901,  0.25625364, -0.03651993, -0.19384027, -0.17760407,\n",
      "        0.21254382,  0.29779516,  0.01756742, -0.2779992 , -0.30189272,\n",
      "        0.11987084, -0.04422285, -0.04547825]), array([ 0.01910022, -0.26762744, -0.10648569,  0.08822733,  0.32463636,\n",
      "        0.18039305,  0.22813769,  0.4034178 , -0.00904353,  0.20685877,\n",
      "        0.05674212,  0.16266275,  0.1033824 ,  0.02319539, -0.05631574,\n",
      "        0.20625137, -0.03076844, -0.10048064,  0.24239143,  0.16139847,\n",
      "        0.00540233,  0.21739572, -0.22509163,  0.13345121,  0.00546544,\n",
      "        0.12636251,  0.25843888, -0.36369826]), array([ 0.17087117, -0.2874064 , -0.17232582,  0.12090421,  0.26424007,\n",
      "       -0.24373429, -0.02683492,  0.21724552, -0.0444976 ,  0.14265585,\n",
      "        0.21139057,  0.11821394, -0.14941159,  0.26267728,  0.19119502,\n",
      "        0.21184709,  0.27740038, -0.12200993, -0.15763785,  0.3189843 ,\n",
      "       -0.2684897 , -0.07057758, -0.0807071 , -0.00406621,  0.23689197,\n",
      "        0.08406662, -0.08054689,  0.20318353]), array([ 0.14332156,  0.19343327, -0.29131317, -0.10328935, -0.34775848,\n",
      "       -0.31468143, -0.34933039, -0.15668267, -0.08477582,  0.15369282,\n",
      "        0.23030834,  0.0352507 , -0.15482772, -0.24491803,  0.04499509,\n",
      "       -0.12958559,  0.13076668,  0.02256188,  0.12117911, -0.08389306,\n",
      "        0.00421331, -0.2278829 ,  0.01541519,  0.06405626,  0.2357156 ,\n",
      "       -0.01412337,  0.16465656,  0.33705905]), array([ 0.2221925 ,  0.24925289, -0.09104137,  0.30011433,  0.24136928,\n",
      "        0.13937212,  0.10437168, -0.31169901, -0.15959435, -0.10471369,\n",
      "        0.21976933, -0.16283073,  0.24223452,  0.25937866,  0.12304333,\n",
      "       -0.19864874, -0.20954046, -0.12313419, -0.09718741, -0.19242843,\n",
      "        0.25809854,  0.22350175, -0.05887526,  0.17671921,  0.18279086,\n",
      "        0.14151944,  0.02887269, -0.03909318]), array([-0.18384038,  0.2801528 , -0.21741484, -0.07349852,  0.10008078,\n",
      "       -0.05568747, -0.21073802,  0.23144218, -0.04245515,  0.2098891 ,\n",
      "       -0.31320912, -0.2008795 ,  0.27548541, -0.2217928 , -0.22788165,\n",
      "       -0.08994125, -0.04011956, -0.26773513, -0.21831628,  0.08557902,\n",
      "       -0.08475769, -0.23797526, -0.20807263,  0.15539169, -0.24766058,\n",
      "        0.12135751,  0.09974127, -0.09483896]), array([-0.04610688, -0.26804736, -0.20254987, -0.1189195 , -0.19070416,\n",
      "       -0.20727262, -0.04737592,  0.20029261,  0.17002112, -0.24529505,\n",
      "        0.30097067, -0.13837397, -0.18494092,  0.06963312,  0.14505738,\n",
      "        0.26467186,  0.1321396 ,  0.07705872,  0.14049093, -0.13061117,\n",
      "       -0.27764998, -0.28717586,  0.1756262 , -0.07354495,  0.27639156,\n",
      "       -0.00301667,  0.2739735 , -0.11287546]), array([-0.07437391,  0.29426301,  0.02818342,  0.11656554, -0.1499717 ,\n",
      "        0.32257757,  0.02162176, -0.19573926, -0.25273951, -0.01598464,\n",
      "        0.16442565, -0.02418514,  0.2020814 ,  0.03749024, -0.17280615,\n",
      "        0.18827495, -0.0592816 , -0.2615442 ,  0.03036012,  0.35762041,\n",
      "       -0.05508418,  0.13865106,  0.30740934,  0.13664325, -0.34858022,\n",
      "       -0.05561732,  0.25490289, -0.05586168]), array([ 0.31801562,  0.0046727 , -0.16777768,  0.07436004,  0.06439761,\n",
      "       -0.0900275 , -0.11327606,  0.16511149, -0.03100662, -0.10293442,\n",
      "       -0.26865607,  0.31849525,  0.1939215 , -0.2725467 ,  0.11074156,\n",
      "       -0.09843999,  0.09760634, -0.10790449,  0.32529263,  0.21163495,\n",
      "       -0.22630818, -0.12981509,  0.33461035,  0.18484158,  0.21444151,\n",
      "        0.22538595, -0.06360715,  0.08368915]), array([ 0.29611449,  0.30032553,  0.31995016, -0.0182505 ,  0.29077062,\n",
      "        0.08367498, -0.04355178, -0.21343972,  0.21267053,  0.21043193,\n",
      "       -0.21303884,  0.12002597,  0.14965318, -0.08755493,  0.12617115,\n",
      "        0.22622081,  0.18394996, -0.02775706,  0.16744656,  0.15144699,\n",
      "        0.22129585,  0.16583866, -0.10967796,  0.03057271, -0.1138117 ,\n",
      "       -0.12935151,  0.18039372, -0.31098318]), array([ 0.19858307, -0.11268101, -0.21966966, -0.28896986, -0.18900848,\n",
      "        0.21577487,  0.2284139 , -0.22074704, -0.20529841, -0.21001681,\n",
      "       -0.04003729, -0.01015403, -0.22720006, -0.02817051,  0.24401174,\n",
      "       -0.27995841, -0.1339725 ,  0.29453537,  0.25410065,  0.11817075,\n",
      "        0.08638014, -0.11837714,  0.18926581, -0.07937508,  0.24498034,\n",
      "        0.07317751,  0.14958876, -0.14162224]), array([-1.25484890e-01,  2.04195433e-01, -2.97315701e-01,  1.33735907e-01,\n",
      "       -1.41097172e-01,  1.60930587e-01, -6.79849213e-02,  2.13367228e-01,\n",
      "       -2.15065278e-01, -1.56538841e-01,  3.07202160e-01,  9.03908757e-02,\n",
      "       -2.72625336e-01, -2.39812465e-01,  1.47387914e-01, -1.27101841e-01,\n",
      "        5.77703064e-02,  1.27394844e-01,  1.45700499e-01, -1.85511213e-04,\n",
      "       -1.64707247e-01,  1.77035543e-01,  8.08566487e-02,  4.96599592e-02,\n",
      "       -1.96288921e-01,  2.93428876e-01, -3.16048656e-01, -2.54010510e-01]), array([-0.13985011,  0.17522293, -0.24144033, -0.10635128, -0.29595793,\n",
      "        0.22544795,  0.31533522, -0.14662555, -0.01258183,  0.16812491,\n",
      "       -0.29331056, -0.17008719, -0.23847362,  0.09722948,  0.20742128,\n",
      "        0.14758134,  0.27321232,  0.13110225,  0.18436295, -0.05349989,\n",
      "        0.07973064, -0.03093193, -0.10458978,  0.00072095, -0.30762614,\n",
      "       -0.30027247, -0.08102335,  0.08927104]), array([ 0.18605655, -0.19301859, -0.06194112, -0.20846196, -0.06429779,\n",
      "       -0.2093871 , -0.26549125, -0.23699155,  0.13642236,  0.21820528,\n",
      "        0.15175317, -0.02685003,  0.15081284, -0.13053442, -0.18099423,\n",
      "       -0.15225928,  0.12605927, -0.25349482,  0.24261549, -0.0516468 ,\n",
      "       -0.27498608, -0.25504061,  0.28993578, -0.02686573,  0.18138431,\n",
      "       -0.22626184,  0.24621531, -0.09306642]), array([ 0.2703109 , -0.11733142, -0.19178915, -0.2766941 ,  0.26553444,\n",
      "       -0.16861169,  0.10038396,  0.14129892,  0.02316148, -0.12130064,\n",
      "        0.21508018, -0.29761028, -0.08075663, -0.00494654,  0.30639778,\n",
      "        0.07303132,  0.07158179,  0.11676348,  0.21311295, -0.1595044 ,\n",
      "       -0.26343124, -0.14631944, -0.17072527, -0.30366412, -0.03212306,\n",
      "        0.09069666,  0.27191064, -0.17328283]), array([ 0.06416017,  0.06061247,  0.23218357,  0.05604047,  0.06938523,\n",
      "       -0.03174522,  0.2957018 ,  0.12857995,  0.17424901, -0.11280799,\n",
      "        0.07039809,  0.05902555,  0.21086451,  0.24055961,  0.32265618,\n",
      "        0.27375461, -0.01920025,  0.29587827,  0.34545489, -0.22692265,\n",
      "       -0.22543635, -0.10311863,  0.18291734,  0.11221614,  0.00817977,\n",
      "       -0.18137812,  0.1372252 , -0.27277889]), array([-0.07833658, -0.26379503, -0.08193901,  0.10476425, -0.03167625,\n",
      "       -0.10144057,  0.30128302,  0.09282157,  0.08936749,  0.15821039,\n",
      "       -0.25022958, -0.22504487, -0.25581723, -0.17385946, -0.1697003 ,\n",
      "       -0.28031186, -0.11222473, -0.25839446,  0.25730759,  0.13715594,\n",
      "        0.21809978,  0.07090051,  0.21882744, -0.25589895, -0.09974636,\n",
      "       -0.27671177, -0.00547359,  0.17231273]), array([-0.2694298 ,  0.24100917, -0.06986382, -0.23616192, -0.28763976,\n",
      "       -0.01618284,  0.13207811,  0.16465308,  0.21448916, -0.08125834,\n",
      "        0.34460378,  0.23717338, -0.06431006, -0.0028723 ,  0.03136547,\n",
      "        0.0593554 ,  0.13257803,  0.06844022,  0.24811613, -0.21753826,\n",
      "       -0.05155359, -0.24195179, -0.30289202,  0.10489926, -0.03223984,\n",
      "       -0.02683082,  0.31654244,  0.2186385 ]), array([-0.24587329, -0.08701464, -0.00092366, -0.24375881, -0.12373255,\n",
      "       -0.12488905, -0.22836809,  0.22250867, -0.03053481,  0.05253173,\n",
      "       -0.28663421, -0.20388929, -0.2086821 , -0.2780744 , -0.2508654 ,\n",
      "        0.16959272, -0.28518294,  0.0272958 ,  0.0810389 , -0.20409978,\n",
      "        0.08796126, -0.27299815,  0.29280798, -0.21084308,  0.00169757,\n",
      "        0.03146965,  0.13868186,  0.1923928 ]), array([ 0.27344421,  0.07283717, -0.29674673,  0.16231884,  0.12829291,\n",
      "       -0.2556952 , -0.1347562 ,  0.00452903,  0.15694947,  0.20142599,\n",
      "        0.15315945, -0.241409  , -0.2301283 , -0.15264838, -0.27530776,\n",
      "       -0.26598675,  0.24576113, -0.04478812, -0.16159865,  0.16294395,\n",
      "       -0.07438981,  0.08275773,  0.04690272, -0.2599366 , -0.01204748,\n",
      "       -0.21606323,  0.12337917,  0.27655512]), array([-0.05695025,  0.25216963, -0.11929381, -0.28676303,  0.02953214,\n",
      "       -0.10720642,  0.19055915,  0.33391605, -0.12166535, -0.00499935,\n",
      "        0.21365982, -0.30484069, -0.2266788 ,  0.16499899,  0.20216127,\n",
      "        0.19848938, -0.26060144, -0.22570766, -0.05619805, -0.07474205,\n",
      "       -0.15695195,  0.27766404,  0.08105796, -0.17710882, -0.24275358,\n",
      "       -0.15165737,  0.06334472,  0.10503057]), array([ 1.66636731e-01, -5.25351978e-02, -1.75479429e-01,  6.09396972e-02,\n",
      "        1.28466181e-04, -3.32176187e-01,  6.16630426e-02,  3.25570843e-01,\n",
      "       -1.10898595e-01, -1.98097866e-01, -1.97104196e-01,  3.08248776e-01,\n",
      "       -1.76495413e-01,  1.71831347e-01, -1.69943577e-01,  1.17532457e-01,\n",
      "       -2.36336819e-01, -3.27818653e-01, -2.57275427e-01,  1.50734118e-01,\n",
      "        2.92823227e-01, -9.22601251e-02, -7.74087665e-02,  1.37596988e-01,\n",
      "       -3.59381281e-02, -9.22433590e-02,  1.91561172e-01,  9.01986108e-02]), array([-0.23946173, -0.03966872,  0.19264893,  0.13302898,  0.32585223,\n",
      "       -0.18117536, -0.30540156,  0.27269278,  0.25286519, -0.21957938,\n",
      "       -0.22473094, -0.16156877, -0.17879406,  0.11530757,  0.30052389,\n",
      "        0.01098669, -0.08431465, -0.11811742, -0.19049944,  0.15674252,\n",
      "       -0.24552463,  0.13855726, -0.09324172, -0.10503086, -0.2406959 ,\n",
      "       -0.00486544, -0.12637657, -0.01102423]), array([-0.1719905 ,  0.10580359, -0.16359588,  0.25039578,  0.13994412,\n",
      "        0.18750693, -0.24048445,  0.24268907, -0.19135916, -0.0647707 ,\n",
      "       -0.14325508,  0.04279441,  0.08332312,  0.18871366,  0.17697037,\n",
      "       -0.16904338,  0.18308112, -0.25810953,  0.27656113, -0.19742223,\n",
      "        0.19813783, -0.12207868, -0.25460414, -0.19408567,  0.0893535 ,\n",
      "       -0.24105075, -0.28224284,  0.12110682]), array([ 0.2421263 , -0.07995653,  0.06556764,  0.15113627,  0.05610688,\n",
      "        0.13780956,  0.12363105, -0.29596849, -0.25038941, -0.21123902,\n",
      "        0.31933216,  0.11635649, -0.22026259, -0.01840211,  0.21523422,\n",
      "        0.28908394,  0.04140236,  0.21434802, -0.04200619,  0.33865811,\n",
      "        0.09283106,  0.14270112,  0.25695293,  0.04800358, -0.21840411,\n",
      "       -0.15586817,  0.21867563,  0.00178243]), array([ 0.30929571, -0.25898009, -0.24257724, -0.32453389,  0.01167701,\n",
      "        0.0474079 ,  0.16829506, -0.18526618, -0.11486137, -0.33356051,\n",
      "       -0.12848669, -0.2699294 , -0.30267383,  0.05963375,  0.16481028,\n",
      "       -0.13076429,  0.17464266,  0.18444504,  0.08162786,  0.04793581,\n",
      "        0.01630963, -0.14619184,  0.18293608,  0.11857435,  0.16278252,\n",
      "       -0.05827273, -0.24420832, -0.15045582]), array([-1.04641734e-01, -7.72956159e-02, -8.97312065e-02,  2.80372028e-01,\n",
      "        1.41865450e-01,  1.30564880e-01,  1.10163025e-01, -1.31281778e-01,\n",
      "       -2.43457766e-01, -2.14043181e-01,  8.16912456e-02,  2.54363951e-02,\n",
      "        2.44702277e-01,  1.39960480e-01, -3.01853280e-01, -2.85115130e-01,\n",
      "        3.07698171e-01,  2.90243782e-01, -7.91332023e-02,  2.03638934e-01,\n",
      "       -4.60229164e-02,  6.98143386e-02, -8.70215092e-02,  2.45800782e-01,\n",
      "       -2.64948294e-04, -1.22398282e-02,  2.31007341e-01, -3.32329706e-01])]\n"
     ]
    }
   ],
   "source": [
    "hash_vec = genRandomHashVector(50, vec_len)\n",
    "print(hash_vec)"
   ]
  },
  {
   "cell_type": "markdown",
   "metadata": {},
   "source": [
    "## SOL 5 50bit Hashes"
   ]
  },
  {
   "cell_type": "code",
   "execution_count": 65,
   "metadata": {},
   "outputs": [],
   "source": [
    "def localSensitiveHashing(hash_vector, data):\n",
    "    hash_code = []\n",
    "    for i in range(len(hash_vector)):\n",
    "        if np.dot(data, hash_vector[i]) > 0:\n",
    "            hash_code.append('1')\n",
    "        else:\n",
    "            hash_code.append('0')\n",
    "    return hash_code"
   ]
  },
  {
   "cell_type": "code",
   "execution_count": 66,
   "metadata": {
    "scrolled": true
   },
   "outputs": [
    {
     "name": "stdout",
     "output_type": "stream",
     "text": [
      "[['0', '0', '0', '0', '1', '0', '1', '1', '1', '0', '1', '0', '0', '0', '0', '1', '1', '0', '0', '0', '1', '1', '0', '1', '1', '1', '0', '0', '0', '1', '0', '0', '0', '1', '0', '1', '1', '1', '0', '1', '1', '1', '0', '0', '1', '0', '0', '0', '1', '0'], ['0', '0', '1', '0', '1', '0', '1', '1', '1', '1', '1', '0', '0', '1', '0', '1', '1', '0', '1', '0', '1', '1', '0', '1', '1', '1', '0', '0', '0', '1', '0', '1', '0', '1', '0', '0', '1', '1', '0', '1', '0', '1', '0', '0', '1', '0', '0', '1', '1', '1'], ['0', '0', '1', '0', '0', '0', '1', '1', '1', '1', '1', '0', '0', '1', '0', '1', '1', '0', '0', '0', '1', '1', '0', '1', '1', '1', '0', '0', '0', '1', '0', '0', '0', '0', '0', '0', '1', '1', '0', '1', '0', '1', '0', '0', '1', '1', '0', '1', '1', '1'], ['1', '0', '1', '0', '0', '1', '0', '1', '0', '1', '1', '0', '0', '1', '1', '0', '0', '0', '1', '0', '1', '0', '0', '0', '1', '1', '1', '1', '0', '1', '0', '1', '0', '1', '0', '0', '1', '1', '0', '1', '0', '0', '1', '0', '1', '0', '0', '1', '1', '0'], ['0', '0', '0', '0', '1', '0', '1', '1', '1', '1', '1', '0', '0', '0', '0', '0', '1', '0', '1', '0', '1', '1', '0', '1', '1', '1', '0', '0', '0', '1', '0', '1', '0', '1', '0', '0', '1', '1', '0', '1', '0', '1', '1', '0', '1', '1', '1', '1', '1', '1'], ['1', '1', '0', '1', '1', '1', '1', '0', '1', '0', '0', '1', '1', '0', '1', '1', '0', '1', '0', '1', '0', '1', '1', '1', '0', '0', '1', '1', '1', '0', '1', '0', '0', '0', '1', '1', '0', '0', '1', '0', '1', '1', '0', '1', '0', '1', '1', '0', '0', '1'], ['1', '1', '1', '0', '0', '1', '0', '0', '0', '1', '1', '1', '0', '1', '1', '0', '0', '1', '1', '1', '0', '0', '1', '0', '0', '0', '1', '1', '0', '0', '1', '1', '1', '1', '0', '0', '1', '1', '1', '0', '0', '0', '1', '1', '1', '0', '0', '1', '1', '0'], ['1', '0', '1', '0', '0', '1', '0', '0', '0', '1', '0', '1', '1', '1', '1', '1', '1', '1', '0', '1', '0', '0', '1', '0', '0', '0', '1', '1', '1', '0', '1', '0', '1', '0', '0', '1', '0', '0', '1', '0', '1', '0', '0', '1', '0', '0', '0', '1', '0', '0'], ['1', '1', '1', '1', '1', '1', '0', '0', '0', '1', '0', '1', '1', '1', '1', '1', '0', '1', '1', '1', '0', '0', '1', '0', '0', '0', '1', '1', '1', '0', '1', '1', '1', '0', '1', '0', '0', '0', '1', '0', '1', '0', '1', '1', '0', '0', '1', '1', '0', '0'], ['1', '0', '1', '0', '0', '1', '0', '0', '0', '1', '1', '1', '1', '1', '1', '0', '1', '1', '1', '0', '0', '0', '1', '0', '0', '0', '1', '1', '0', '0', '1', '1', '1', '1', '0', '0', '1', '1', '1', '0', '0', '0', '1', '1', '1', '0', '0', '1', '1', '0'], ['1', '0', '1', '0', '0', '1', '0', '1', '1', '0', '1', '0', '0', '0', '1', '1', '0', '1', '1', '0', '0', '0', '0', '0', '0', '1', '1', '0', '0', '1', '0', '1', '0', '1', '0', '0', '1', '1', '0', '1', '0', '0', '1', '0', '1', '0', '0', '1', '1', '0'], ['0', '0', '0', '0', '1', '0', '1', '1', '1', '1', '1', '0', '0', '0', '0', '1', '1', '0', '0', '0', '1', '1', '0', '1', '1', '1', '0', '0', '0', '1', '0', '0', '0', '0', '0', '0', '1', '0', '0', '1', '0', '1', '0', '0', '0', '1', '1', '0', '1', '1'], ['1', '0', '1', '0', '0', '1', '0', '1', '0', '1', '1', '0', '0', '1', '1', '0', '0', '0', '1', '1', '1', '0', '0', '0', '1', '1', '0', '1', '0', '1', '0', '1', '1', '1', '0', '0', '1', '1', '1', '1', '0', '0', '1', '0', '1', '0', '0', '1', '1', '0'], ['1', '1', '0', '1', '1', '1', '0', '0', '0', '0', '0', '1', '1', '0', '1', '1', '0', '1', '0', '1', '0', '1', '1', '1', '0', '0', '0', '1', '1', '0', '1', '0', '1', '0', '1', '1', '0', '0', '1', '0', '1', '0', '0', '1', '0', '1', '1', '0', '0', '1'], ['1', '0', '1', '0', '0', '1', '0', '0', '0', '1', '0', '1', '1', '1', '1', '1', '1', '1', '0', '0', '0', '0', '1', '0', '0', '0', '1', '1', '0', '0', '1', '1', '1', '1', '0', '1', '0', '0', '1', '0', '1', '0', '0', '1', '0', '0', '0', '1', '1', '0']]\n"
     ]
    }
   ],
   "source": [
    "hashes = []\n",
    "for i in range(len(feat_vec_ls)):\n",
    "    hash_cd = localSensitiveHashing(hash_vec, feat_vec_ls[i])\n",
    "    hashes.append(hash_cd)\n",
    "print(hashes)"
   ]
  },
  {
   "cell_type": "markdown",
   "metadata": {},
   "source": [
    "## SOL 6 L1 NORM betweed hash reps "
   ]
  },
  {
   "cell_type": "code",
   "execution_count": 67,
   "metadata": {},
   "outputs": [],
   "source": [
    "n = np.random.randint(len(feat_vec_ls))\n",
    "list_1 = []"
   ]
  },
  {
   "cell_type": "code",
   "execution_count": 68,
   "metadata": {},
   "outputs": [],
   "source": [
    "for i in range(len(feat_vec_ls)):\n",
    "    list_1.append(np.linalg.norm((feat_vec_ls[i] - feat_vec_ls[n]), ord=1))"
   ]
  },
  {
   "cell_type": "code",
   "execution_count": 69,
   "metadata": {},
   "outputs": [
    {
     "name": "stdout",
     "output_type": "stream",
     "text": [
      "[0.0, 50657.77895900335, 84929.16195537405, 86340.29870858208, 88511.4844639466, 95193.8289269935, 96657.98507255239, 98140.50784706324, 101542.347149671, 103299.01215625754, 104437.29864308747, 104713.59463145027, 105963.69830332791, 108531.84880036137, 117869.28102802842]\n"
     ]
    }
   ],
   "source": [
    "print(sorted(list_1)) #sorted list"
   ]
  },
  {
   "cell_type": "code",
   "execution_count": null,
   "metadata": {},
   "outputs": [],
   "source": []
  }
 ],
 "metadata": {
  "kernelspec": {
   "display_name": "Python 3",
   "language": "python",
   "name": "python3"
  },
  "language_info": {
   "codemirror_mode": {
    "name": "ipython",
    "version": 3
   },
   "file_extension": ".py",
   "mimetype": "text/x-python",
   "name": "python",
   "nbconvert_exporter": "python",
   "pygments_lexer": "ipython3",
   "version": "3.6.10"
  }
 },
 "nbformat": 4,
 "nbformat_minor": 4
}
